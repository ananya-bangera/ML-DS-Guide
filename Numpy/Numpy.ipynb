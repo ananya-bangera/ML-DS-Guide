{
  "nbformat": 4,
  "nbformat_minor": 0,
  "metadata": {
    "colab": {
      "name": "Numpy.ipynb",
      "provenance": []
    },
    "kernelspec": {
      "name": "python3",
      "display_name": "Python 3"
    },
    "language_info": {
      "name": "python"
    }
  },
  "cells": [
    {
      "cell_type": "markdown",
      "metadata": {
        "id": "sDqnHberjIFK"
      },
      "source": [
        "#Tutorial"
      ]
    },
    {
      "cell_type": "code",
      "metadata": {
        "id": "LoavyYuuI_yp"
      },
      "source": [
        "import numpy as np"
      ],
      "execution_count": null,
      "outputs": []
    },
    {
      "cell_type": "code",
      "metadata": {
        "colab": {
          "base_uri": "https://localhost:8080/"
        },
        "id": "_tkQSc34JSD-",
        "outputId": "3a2ace75-d8f0-473c-82e4-fa4c3e320e69"
      },
      "source": [
        "a = np.array([1,2,3],dtype='int16')\n",
        "a"
      ],
      "execution_count": null,
      "outputs": [
        {
          "output_type": "execute_result",
          "data": {
            "text/plain": [
              "array([1, 2, 3], dtype=int16)"
            ]
          },
          "metadata": {},
          "execution_count": 3
        }
      ]
    },
    {
      "cell_type": "code",
      "metadata": {
        "colab": {
          "base_uri": "https://localhost:8080/"
        },
        "id": "3qHmYesMJVwI",
        "outputId": "eb444e8e-f433-49aa-cd11-c8489595a2f4"
      },
      "source": [
        "b = np.array([[1,2],[3,4]])\n",
        "b"
      ],
      "execution_count": null,
      "outputs": [
        {
          "output_type": "execute_result",
          "data": {
            "text/plain": [
              "array([[1, 2],\n",
              "       [3, 4]])"
            ]
          },
          "metadata": {},
          "execution_count": 4
        }
      ]
    },
    {
      "cell_type": "code",
      "metadata": {
        "colab": {
          "base_uri": "https://localhost:8080/"
        },
        "id": "ir4F670fJePh",
        "outputId": "bb729ea9-afd1-4d99-a2a9-1e9c4e77e0bc"
      },
      "source": [
        "# Dimension\n",
        "a.ndim,b.ndim"
      ],
      "execution_count": null,
      "outputs": [
        {
          "output_type": "execute_result",
          "data": {
            "text/plain": [
              "(1, 2)"
            ]
          },
          "metadata": {},
          "execution_count": 5
        }
      ]
    },
    {
      "cell_type": "code",
      "metadata": {
        "colab": {
          "base_uri": "https://localhost:8080/"
        },
        "id": "RlJQHpXnJeme",
        "outputId": "e7185027-a176-439b-9d16-fc8feb884122"
      },
      "source": [
        "# Shape\n",
        "b.shape"
      ],
      "execution_count": null,
      "outputs": [
        {
          "output_type": "execute_result",
          "data": {
            "text/plain": [
              "(2, 2)"
            ]
          },
          "metadata": {},
          "execution_count": 6
        }
      ]
    },
    {
      "cell_type": "code",
      "metadata": {
        "colab": {
          "base_uri": "https://localhost:8080/"
        },
        "id": "s-swLULtJnAz",
        "outputId": "8e866f10-8b56-49e0-a880-b1754188266a"
      },
      "source": [
        "# Type\n",
        "a.dtype,b.dtype"
      ],
      "execution_count": null,
      "outputs": [
        {
          "output_type": "execute_result",
          "data": {
            "text/plain": [
              "(dtype('int16'), dtype('int64'))"
            ]
          },
          "metadata": {},
          "execution_count": 7
        }
      ]
    },
    {
      "cell_type": "code",
      "metadata": {
        "colab": {
          "base_uri": "https://localhost:8080/"
        },
        "id": "9foAs7qvJsy4",
        "outputId": "1b000584-9547-418b-b88e-564524d45594"
      },
      "source": [
        "# Item Size\n",
        "a.itemsize,b.itemsize"
      ],
      "execution_count": null,
      "outputs": [
        {
          "output_type": "execute_result",
          "data": {
            "text/plain": [
              "(2, 8)"
            ]
          },
          "metadata": {},
          "execution_count": 8
        }
      ]
    },
    {
      "cell_type": "code",
      "metadata": {
        "colab": {
          "base_uri": "https://localhost:8080/"
        },
        "id": "neos2pdvJ1eB",
        "outputId": "e1da8b97-8d89-4efa-e541-fac5f43bd415"
      },
      "source": [
        "# Total Size\n",
        "a.nbytes,b.nbytes"
      ],
      "execution_count": null,
      "outputs": [
        {
          "output_type": "execute_result",
          "data": {
            "text/plain": [
              "(6, 32)"
            ]
          },
          "metadata": {},
          "execution_count": 9
        }
      ]
    },
    {
      "cell_type": "markdown",
      "metadata": {
        "id": "UcHnaIzHKdWR"
      },
      "source": [
        "##Accessing/Changing specific elements,rows,columns,etc\n",
        "\n"
      ]
    },
    {
      "cell_type": "code",
      "metadata": {
        "colab": {
          "base_uri": "https://localhost:8080/"
        },
        "id": "B36VGxgPKAHP",
        "outputId": "1828bf55-b62c-47f6-f77f-9aa97f15c89f"
      },
      "source": [
        "a = np.array([[i*5 + j for j in range(1,6)] for i in range(1,6)])\n",
        "a"
      ],
      "execution_count": null,
      "outputs": [
        {
          "output_type": "execute_result",
          "data": {
            "text/plain": [
              "array([[ 6,  7,  8,  9, 10],\n",
              "       [11, 12, 13, 14, 15],\n",
              "       [16, 17, 18, 19, 20],\n",
              "       [21, 22, 23, 24, 25],\n",
              "       [26, 27, 28, 29, 30]])"
            ]
          },
          "metadata": {},
          "execution_count": 10
        }
      ]
    },
    {
      "cell_type": "code",
      "metadata": {
        "colab": {
          "base_uri": "https://localhost:8080/"
        },
        "id": "3ANmFnhQKsn0",
        "outputId": "fd8517d5-5f6b-45f1-8905-a1994f597938"
      },
      "source": [
        "# Accessing specific element [r,c]\n",
        "a[1][-2] , a[1,-2]"
      ],
      "execution_count": null,
      "outputs": [
        {
          "output_type": "execute_result",
          "data": {
            "text/plain": [
              "(14, 14)"
            ]
          },
          "metadata": {},
          "execution_count": 11
        }
      ]
    },
    {
      "cell_type": "code",
      "metadata": {
        "colab": {
          "base_uri": "https://localhost:8080/"
        },
        "id": "l3PHUytyLB0e",
        "outputId": "d9ba6e54-f3c8-4a7d-ef6e-13a671744fd3"
      },
      "source": [
        "# Specific Row\n",
        "a[0] , a[0,:]"
      ],
      "execution_count": null,
      "outputs": [
        {
          "output_type": "execute_result",
          "data": {
            "text/plain": [
              "(array([ 6,  7,  8,  9, 10]), array([ 6,  7,  8,  9, 10]))"
            ]
          },
          "metadata": {},
          "execution_count": 12
        }
      ]
    },
    {
      "cell_type": "code",
      "metadata": {
        "colab": {
          "base_uri": "https://localhost:8080/"
        },
        "id": "yvCW3MrmLDJE",
        "outputId": "d92e6abd-650d-43e7-8b6b-297b7aafc64b"
      },
      "source": [
        "# Specific Column\n",
        "a[:,0]"
      ],
      "execution_count": null,
      "outputs": [
        {
          "output_type": "execute_result",
          "data": {
            "text/plain": [
              "array([ 6, 11, 16, 21, 26])"
            ]
          },
          "metadata": {},
          "execution_count": 13
        }
      ]
    },
    {
      "cell_type": "code",
      "metadata": {
        "colab": {
          "base_uri": "https://localhost:8080/"
        },
        "id": "sEhIDKaILctj",
        "outputId": "4de4c5c7-a429-4392-861b-27058d90ebb7"
      },
      "source": [
        "# Stepping the elements\n",
        "a[0,::2]"
      ],
      "execution_count": null,
      "outputs": [
        {
          "output_type": "execute_result",
          "data": {
            "text/plain": [
              "array([ 6,  8, 10])"
            ]
          },
          "metadata": {},
          "execution_count": 14
        }
      ]
    },
    {
      "cell_type": "code",
      "metadata": {
        "colab": {
          "base_uri": "https://localhost:8080/"
        },
        "id": "EKdhXxocLogd",
        "outputId": "2f207bd8-7fd7-43f5-f9c9-a097e03f7d88"
      },
      "source": [
        "a[1,4] = 20\n",
        "print(a)\n",
        "a[:,2] = 5\n",
        "print(a)"
      ],
      "execution_count": null,
      "outputs": [
        {
          "output_type": "stream",
          "name": "stdout",
          "text": [
            "[[ 6  7  8  9 10]\n",
            " [11 12 13 14 20]\n",
            " [16 17 18 19 20]\n",
            " [21 22 23 24 25]\n",
            " [26 27 28 29 30]]\n",
            "[[ 6  7  5  9 10]\n",
            " [11 12  5 14 20]\n",
            " [16 17  5 19 20]\n",
            " [21 22  5 24 25]\n",
            " [26 27  5 29 30]]\n"
          ]
        }
      ]
    },
    {
      "cell_type": "code",
      "metadata": {
        "colab": {
          "base_uri": "https://localhost:8080/"
        },
        "id": "BPOf5PjdMFps",
        "outputId": "b77c50fe-16a0-410c-f930-988ebcc88d4b"
      },
      "source": [
        "c = np.array([[[k*100 + j*10 + i for i in range(5)] for j in range(5)] for k in range(5)])\n",
        "c"
      ],
      "execution_count": null,
      "outputs": [
        {
          "output_type": "execute_result",
          "data": {
            "text/plain": [
              "array([[[  0,   1,   2,   3,   4],\n",
              "        [ 10,  11,  12,  13,  14],\n",
              "        [ 20,  21,  22,  23,  24],\n",
              "        [ 30,  31,  32,  33,  34],\n",
              "        [ 40,  41,  42,  43,  44]],\n",
              "\n",
              "       [[100, 101, 102, 103, 104],\n",
              "        [110, 111, 112, 113, 114],\n",
              "        [120, 121, 122, 123, 124],\n",
              "        [130, 131, 132, 133, 134],\n",
              "        [140, 141, 142, 143, 144]],\n",
              "\n",
              "       [[200, 201, 202, 203, 204],\n",
              "        [210, 211, 212, 213, 214],\n",
              "        [220, 221, 222, 223, 224],\n",
              "        [230, 231, 232, 233, 234],\n",
              "        [240, 241, 242, 243, 244]],\n",
              "\n",
              "       [[300, 301, 302, 303, 304],\n",
              "        [310, 311, 312, 313, 314],\n",
              "        [320, 321, 322, 323, 324],\n",
              "        [330, 331, 332, 333, 334],\n",
              "        [340, 341, 342, 343, 344]],\n",
              "\n",
              "       [[400, 401, 402, 403, 404],\n",
              "        [410, 411, 412, 413, 414],\n",
              "        [420, 421, 422, 423, 424],\n",
              "        [430, 431, 432, 433, 434],\n",
              "        [440, 441, 442, 443, 444]]])"
            ]
          },
          "metadata": {},
          "execution_count": 24
        }
      ]
    },
    {
      "cell_type": "code",
      "metadata": {
        "id": "bVXRM6-AM90u"
      },
      "source": [
        "# c[:,1,:] = [[10 for _ in range(5)] for _ in range(5)]\n",
        "c[:,1,:] = [[10 for _ in range(5)] for _ in range(5)]"
      ],
      "execution_count": null,
      "outputs": []
    },
    {
      "cell_type": "code",
      "metadata": {
        "colab": {
          "base_uri": "https://localhost:8080/"
        },
        "id": "BPtS8ct6NLp7",
        "outputId": "bcdf924d-7d54-416d-9990-76038b8c99b5"
      },
      "source": [
        "c"
      ],
      "execution_count": null,
      "outputs": [
        {
          "output_type": "execute_result",
          "data": {
            "text/plain": [
              "array([[[  0,   1,   2,   3,   4],\n",
              "        [ 10,  10,  10,  10,  10],\n",
              "        [ 20,  21,  22,  23,  24],\n",
              "        [ 30,  31,  32,  33,  34],\n",
              "        [ 40,  41,  42,  43,  44]],\n",
              "\n",
              "       [[100, 101, 102, 103, 104],\n",
              "        [ 10,  10,  10,  10,  10],\n",
              "        [120, 121, 122, 123, 124],\n",
              "        [130, 131, 132, 133, 134],\n",
              "        [140, 141, 142, 143, 144]],\n",
              "\n",
              "       [[200, 201, 202, 203, 204],\n",
              "        [ 10,  10,  10,  10,  10],\n",
              "        [220, 221, 222, 223, 224],\n",
              "        [230, 231, 232, 233, 234],\n",
              "        [240, 241, 242, 243, 244]],\n",
              "\n",
              "       [[300, 301, 302, 303, 304],\n",
              "        [ 10,  10,  10,  10,  10],\n",
              "        [320, 321, 322, 323, 324],\n",
              "        [330, 331, 332, 333, 334],\n",
              "        [340, 341, 342, 343, 344]],\n",
              "\n",
              "       [[400, 401, 402, 403, 404],\n",
              "        [ 10,  10,  10,  10,  10],\n",
              "        [420, 421, 422, 423, 424],\n",
              "        [430, 431, 432, 433, 434],\n",
              "        [440, 441, 442, 443, 444]]])"
            ]
          },
          "metadata": {},
          "execution_count": 30
        }
      ]
    },
    {
      "cell_type": "markdown",
      "metadata": {
        "id": "cooPNqFo1vVR"
      },
      "source": [
        "##Initializing Different Types of Arrays"
      ]
    },
    {
      "cell_type": "code",
      "metadata": {
        "id": "ziC3H0e6N39g",
        "colab": {
          "base_uri": "https://localhost:8080/"
        },
        "outputId": "2b7f19b8-8327-4c37-c06f-58558dfd592e"
      },
      "source": [
        "# All 0s & 1s Matrix\n",
        "np.zeros(5),np.ones((2,3))"
      ],
      "execution_count": null,
      "outputs": [
        {
          "output_type": "execute_result",
          "data": {
            "text/plain": [
              "(array([0., 0., 0., 0., 0.]), array([[1., 1., 1.],\n",
              "        [1., 1., 1.]]))"
            ]
          },
          "metadata": {},
          "execution_count": 32
        }
      ]
    },
    {
      "cell_type": "code",
      "metadata": {
        "colab": {
          "base_uri": "https://localhost:8080/"
        },
        "id": "QxUGtBm-2F1E",
        "outputId": "dd4dcc36-81c4-4121-e4b9-55f697b77c42"
      },
      "source": [
        "# Full Array\n",
        "np.full((5,5),5)"
      ],
      "execution_count": null,
      "outputs": [
        {
          "output_type": "execute_result",
          "data": {
            "text/plain": [
              "array([[5, 5, 5, 5, 5],\n",
              "       [5, 5, 5, 5, 5],\n",
              "       [5, 5, 5, 5, 5],\n",
              "       [5, 5, 5, 5, 5],\n",
              "       [5, 5, 5, 5, 5]])"
            ]
          },
          "metadata": {},
          "execution_count": 36
        }
      ]
    },
    {
      "cell_type": "code",
      "metadata": {
        "colab": {
          "base_uri": "https://localhost:8080/"
        },
        "id": "mnXDp0wl3QAZ",
        "outputId": "e9c29fba-e43b-43c0-afc4-611046246ba8"
      },
      "source": [
        "# Full like\n",
        "np.full_like(c[:3,:1,:2],4)"
      ],
      "execution_count": null,
      "outputs": [
        {
          "output_type": "execute_result",
          "data": {
            "text/plain": [
              "array([[[4, 4]],\n",
              "\n",
              "       [[4, 4]],\n",
              "\n",
              "       [[4, 4]]])"
            ]
          },
          "metadata": {},
          "execution_count": 41
        }
      ]
    },
    {
      "cell_type": "code",
      "metadata": {
        "colab": {
          "base_uri": "https://localhost:8080/"
        },
        "id": "pvT1mioIJrRM",
        "outputId": "8028f646-0559-4d53-8b37-b5382da07379"
      },
      "source": [
        "# Random Decimal Numbers\n",
        "np.random.rand(4,2,2)"
      ],
      "execution_count": null,
      "outputs": [
        {
          "output_type": "execute_result",
          "data": {
            "text/plain": [
              "array([[[0.39134229, 0.43516698],\n",
              "        [0.55712103, 0.65520127]],\n",
              "\n",
              "       [[0.1610301 , 0.7141142 ],\n",
              "        [0.10040421, 0.31916483]],\n",
              "\n",
              "       [[0.72136968, 0.38900387],\n",
              "        [0.37166032, 0.72624146]],\n",
              "\n",
              "       [[0.78573796, 0.89593332],\n",
              "        [0.10344324, 0.64694082]]])"
            ]
          },
          "metadata": {},
          "execution_count": 43
        }
      ]
    },
    {
      "cell_type": "code",
      "metadata": {
        "colab": {
          "base_uri": "https://localhost:8080/"
        },
        "id": "sXTu3j3HJ4xk",
        "outputId": "bf266f8d-171a-4135-8800-b79868c133d2"
      },
      "source": [
        "np.random.random_sample(b.shape)"
      ],
      "execution_count": null,
      "outputs": [
        {
          "output_type": "execute_result",
          "data": {
            "text/plain": [
              "array([[0.6782438 , 0.39600873],\n",
              "       [0.63162872, 0.836713  ]])"
            ]
          },
          "metadata": {},
          "execution_count": 47
        }
      ]
    },
    {
      "cell_type": "code",
      "metadata": {
        "colab": {
          "base_uri": "https://localhost:8080/"
        },
        "id": "Q7lrFMnLKJgZ",
        "outputId": "bd1726a9-b16b-4990-ab37-31abf4e94ecf"
      },
      "source": [
        "# Random Integer Values\n",
        "np.random.randint(-5,7+1,size=(5,7))"
      ],
      "execution_count": null,
      "outputs": [
        {
          "output_type": "execute_result",
          "data": {
            "text/plain": [
              "array([[-4, -3, -2, -3,  3,  4,  1],\n",
              "       [ 6, -4, -4,  2,  6, -3,  0],\n",
              "       [ 7, -5,  1, -5, -5,  3,  3],\n",
              "       [ 7, -5, -4, -2,  4,  5,  5],\n",
              "       [ 2,  2, -1, -4, -5,  5,  0]])"
            ]
          },
          "metadata": {},
          "execution_count": 52
        }
      ]
    },
    {
      "cell_type": "code",
      "metadata": {
        "colab": {
          "base_uri": "https://localhost:8080/"
        },
        "id": "x3qZEN1KKUST",
        "outputId": "45c9bb13-f278-49ca-8e1e-a27d132657a0"
      },
      "source": [
        "# Identity Matrix\n",
        "np.identity(5)"
      ],
      "execution_count": null,
      "outputs": [
        {
          "output_type": "execute_result",
          "data": {
            "text/plain": [
              "array([[1., 0., 0., 0., 0.],\n",
              "       [0., 1., 0., 0., 0.],\n",
              "       [0., 0., 1., 0., 0.],\n",
              "       [0., 0., 0., 1., 0.],\n",
              "       [0., 0., 0., 0., 1.]])"
            ]
          },
          "metadata": {},
          "execution_count": 53
        }
      ]
    },
    {
      "cell_type": "code",
      "metadata": {
        "colab": {
          "base_uri": "https://localhost:8080/"
        },
        "id": "KNQ07puyKke0",
        "outputId": "3b7be601-813c-452e-e29d-30f8bfd81624"
      },
      "source": [
        "# Repeat Array\n",
        "a = np.random.randint(0,10,size=(10)).reshape(5,2)\n",
        "a,np.repeat(a,2,axis=1)"
      ],
      "execution_count": null,
      "outputs": [
        {
          "output_type": "execute_result",
          "data": {
            "text/plain": [
              "(array([[8, 1],\n",
              "        [0, 2],\n",
              "        [0, 9],\n",
              "        [6, 4],\n",
              "        [6, 8]]), array([[8, 8, 1, 1],\n",
              "        [0, 0, 2, 2],\n",
              "        [0, 0, 9, 9],\n",
              "        [6, 6, 4, 4],\n",
              "        [6, 6, 8, 8]]))"
            ]
          },
          "metadata": {},
          "execution_count": 60
        }
      ]
    },
    {
      "cell_type": "code",
      "metadata": {
        "colab": {
          "base_uri": "https://localhost:8080/"
        },
        "id": "ynHfCtZ3Kvwg",
        "outputId": "c0e765d8-ffde-498a-eb72-f3f9778f5ecd"
      },
      "source": [
        "# Shallow Copying\n",
        "a = np.arange(10)\n",
        "b = a\n",
        "b[0] = 2\n",
        "a,b"
      ],
      "execution_count": null,
      "outputs": [
        {
          "output_type": "execute_result",
          "data": {
            "text/plain": [
              "(array([2, 1, 2, 3, 4, 5, 6, 7, 8, 9]), array([2, 1, 2, 3, 4, 5, 6, 7, 8, 9]))"
            ]
          },
          "metadata": {},
          "execution_count": 62
        }
      ]
    },
    {
      "cell_type": "code",
      "metadata": {
        "colab": {
          "base_uri": "https://localhost:8080/"
        },
        "id": "X5hK7opwLVV7",
        "outputId": "7e2201c7-f373-4ea4-d89f-653c57d7db04"
      },
      "source": [
        "# Deep Copying\n",
        "a = np.arange(10)\n",
        "b = a.copy()\n",
        "b[0] = 10\n",
        "a,b"
      ],
      "execution_count": null,
      "outputs": [
        {
          "output_type": "execute_result",
          "data": {
            "text/plain": [
              "(array([0, 1, 2, 3, 4, 5, 6, 7, 8, 9]),\n",
              " array([10,  1,  2,  3,  4,  5,  6,  7,  8,  9]))"
            ]
          },
          "metadata": {},
          "execution_count": 63
        }
      ]
    },
    {
      "cell_type": "markdown",
      "metadata": {
        "id": "Eqfec4TCLiGW"
      },
      "source": [
        "Mathematics"
      ]
    },
    {
      "cell_type": "code",
      "metadata": {
        "colab": {
          "base_uri": "https://localhost:8080/"
        },
        "id": "PAemsJ0sLfrS",
        "outputId": "1555e72f-a11c-400f-8a59-236def8a064f"
      },
      "source": [
        "a = np.arange(10)\n",
        "a,a+2,a*10,a/2,a**2"
      ],
      "execution_count": null,
      "outputs": [
        {
          "output_type": "execute_result",
          "data": {
            "text/plain": [
              "(array([0, 1, 2, 3, 4, 5, 6, 7, 8, 9]),\n",
              " array([ 2,  3,  4,  5,  6,  7,  8,  9, 10, 11]),\n",
              " array([ 0, 10, 20, 30, 40, 50, 60, 70, 80, 90]),\n",
              " array([0. , 0.5, 1. , 1.5, 2. , 2.5, 3. , 3.5, 4. , 4.5]),\n",
              " array([ 0,  1,  4,  9, 16, 25, 36, 49, 64, 81]))"
            ]
          },
          "metadata": {},
          "execution_count": 67
        }
      ]
    },
    {
      "cell_type": "code",
      "metadata": {
        "colab": {
          "base_uri": "https://localhost:8080/"
        },
        "id": "sy1uSokdLpJO",
        "outputId": "e90024aa-3db5-4fa9-e795-0edb66aa0098"
      },
      "source": [
        "b = np.arange(10,20)\n",
        "b,b+a"
      ],
      "execution_count": null,
      "outputs": [
        {
          "output_type": "execute_result",
          "data": {
            "text/plain": [
              "(array([10, 11, 12, 13, 14, 15, 16, 17, 18, 19]),\n",
              " array([10, 12, 14, 16, 18, 20, 22, 24, 26, 28]))"
            ]
          },
          "metadata": {},
          "execution_count": 66
        }
      ]
    },
    {
      "cell_type": "code",
      "metadata": {
        "colab": {
          "base_uri": "https://localhost:8080/"
        },
        "id": "QoFaUSitLvdh",
        "outputId": "4b482069-64fa-4d53-be62-6a5a7bb1ca1a"
      },
      "source": [
        "np.sin(a) , np.cos(a)"
      ],
      "execution_count": null,
      "outputs": [
        {
          "output_type": "execute_result",
          "data": {
            "text/plain": [
              "(array([ 0.        ,  0.84147098,  0.90929743,  0.14112001, -0.7568025 ,\n",
              "        -0.95892427, -0.2794155 ,  0.6569866 ,  0.98935825,  0.41211849]),\n",
              " array([ 1.        ,  0.54030231, -0.41614684, -0.9899925 , -0.65364362,\n",
              "         0.28366219,  0.96017029,  0.75390225, -0.14550003, -0.91113026]))"
            ]
          },
          "metadata": {},
          "execution_count": 69
        }
      ]
    },
    {
      "cell_type": "markdown",
      "metadata": {
        "id": "RoDY0h1LMD81"
      },
      "source": [
        "## Linear Algebra"
      ]
    },
    {
      "cell_type": "code",
      "metadata": {
        "colab": {
          "base_uri": "https://localhost:8080/"
        },
        "id": "eE-OAEF4L63F",
        "outputId": "b5640e08-e03e-483f-d460-fd8716d4d554"
      },
      "source": [
        "# Cross Product\n",
        "a = np.identity(4)\n",
        "b = np.full((4,3),2)\n",
        "print(f\"{a}\\n{b}\\n{a@b}\\n{np.matmul(a,b)}\")"
      ],
      "execution_count": null,
      "outputs": [
        {
          "output_type": "stream",
          "name": "stdout",
          "text": [
            "[[1. 0. 0. 0.]\n",
            " [0. 1. 0. 0.]\n",
            " [0. 0. 1. 0.]\n",
            " [0. 0. 0. 1.]]\n",
            "[[2 2 2]\n",
            " [2 2 2]\n",
            " [2 2 2]\n",
            " [2 2 2]]\n",
            "[[2. 2. 2.]\n",
            " [2. 2. 2.]\n",
            " [2. 2. 2.]\n",
            " [2. 2. 2.]]\n",
            "[[2. 2. 2.]\n",
            " [2. 2. 2.]\n",
            " [2. 2. 2.]\n",
            " [2. 2. 2.]]\n"
          ]
        }
      ]
    },
    {
      "cell_type": "code",
      "metadata": {
        "colab": {
          "base_uri": "https://localhost:8080/"
        },
        "id": "UETl9kLoMTW-",
        "outputId": "051ac2ff-2669-4962-b897-d8529a4c10c2"
      },
      "source": [
        "# Determinant\n",
        "a = np.random.randint(1,10,(3,3))\n",
        "a,np.linalg.det(a)"
      ],
      "execution_count": null,
      "outputs": [
        {
          "output_type": "execute_result",
          "data": {
            "text/plain": [
              "(array([[2, 6, 8],\n",
              "        [4, 5, 9],\n",
              "        [6, 2, 9]]), -14.000000000000004)"
            ]
          },
          "metadata": {},
          "execution_count": 77
        }
      ]
    },
    {
      "cell_type": "markdown",
      "metadata": {
        "id": "Jjr7rAI-WC5z"
      },
      "source": [
        "## Statistic"
      ]
    },
    {
      "cell_type": "code",
      "metadata": {
        "colab": {
          "base_uri": "https://localhost:8080/"
        },
        "id": "Iv9sFInzV2dP",
        "outputId": "86e3e680-7e91-4744-b2f5-dd6a50642570"
      },
      "source": [
        "x = np.random.randint(1,10,(3,3))\n",
        "x"
      ],
      "execution_count": null,
      "outputs": [
        {
          "output_type": "execute_result",
          "data": {
            "text/plain": [
              "array([[5, 2, 1],\n",
              "       [5, 8, 8],\n",
              "       [9, 7, 7]])"
            ]
          },
          "metadata": {},
          "execution_count": 78
        }
      ]
    },
    {
      "cell_type": "code",
      "metadata": {
        "colab": {
          "base_uri": "https://localhost:8080/"
        },
        "id": "kSJuRHfSWvnN",
        "outputId": "a1e75908-9a3d-4b83-ec4c-63c94c73f1ed"
      },
      "source": [
        "np.min(x),np.min(x,axis=1),np.min(x,axis=0)"
      ],
      "execution_count": null,
      "outputs": [
        {
          "output_type": "execute_result",
          "data": {
            "text/plain": [
              "(1, array([1, 5, 7]), array([5, 2, 1]))"
            ]
          },
          "metadata": {},
          "execution_count": 79
        }
      ]
    },
    {
      "cell_type": "code",
      "metadata": {
        "colab": {
          "base_uri": "https://localhost:8080/"
        },
        "id": "4KKwFVpfW2LO",
        "outputId": "b99cebc5-3173-49e7-e256-949bc78193c4"
      },
      "source": [
        "np.max(x),np.max(x,axis=1),np.max(x,axis=0)"
      ],
      "execution_count": null,
      "outputs": [
        {
          "output_type": "execute_result",
          "data": {
            "text/plain": [
              "(9, array([5, 8, 9]), array([9, 8, 8]))"
            ]
          },
          "metadata": {},
          "execution_count": 80
        }
      ]
    },
    {
      "cell_type": "code",
      "metadata": {
        "colab": {
          "base_uri": "https://localhost:8080/"
        },
        "id": "QWQfagWtW-PW",
        "outputId": "b98025f8-8140-4cb5-deb4-0b4aa0e268c7"
      },
      "source": [
        "np.sum(x),np.sum(x,axis=1),np.sum(x,axis=0)"
      ],
      "execution_count": null,
      "outputs": [
        {
          "output_type": "execute_result",
          "data": {
            "text/plain": [
              "(52, array([ 8, 21, 23]), array([19, 17, 16]))"
            ]
          },
          "metadata": {},
          "execution_count": 82
        }
      ]
    },
    {
      "cell_type": "markdown",
      "metadata": {
        "id": "S7nm3k3MXFLn"
      },
      "source": [
        "## Reorganizing Arrays"
      ]
    },
    {
      "cell_type": "code",
      "metadata": {
        "colab": {
          "base_uri": "https://localhost:8080/"
        },
        "id": "MtYSTXjFXBDO",
        "outputId": "9a2c8473-1a99-4229-abe2-fac128bbcda1"
      },
      "source": [
        "x = np.random.randint(0,10,(5,4))\n",
        "y = np.random.randint(0,(1,1))\n",
        "x,y"
      ],
      "execution_count": null,
      "outputs": [
        {
          "output_type": "execute_result",
          "data": {
            "text/plain": [
              "(array([[5, 8, 4, 9],\n",
              "        [8, 0, 9, 7],\n",
              "        [8, 5, 4, 1],\n",
              "        [1, 9, 6, 2],\n",
              "        [7, 2, 6, 6]]), array([0, 0]))"
            ]
          },
          "metadata": {},
          "execution_count": 96
        }
      ]
    },
    {
      "cell_type": "code",
      "metadata": {
        "colab": {
          "base_uri": "https://localhost:8080/"
        },
        "id": "ulHPJlGrXNKv",
        "outputId": "ddcedb38-381b-401f-ba7b-de793c88341f"
      },
      "source": [
        "x.reshape(10,2)"
      ],
      "execution_count": null,
      "outputs": [
        {
          "output_type": "execute_result",
          "data": {
            "text/plain": [
              "array([[5, 8],\n",
              "       [4, 9],\n",
              "       [8, 0],\n",
              "       [9, 7],\n",
              "       [8, 5],\n",
              "       [4, 1],\n",
              "       [1, 9],\n",
              "       [6, 2],\n",
              "       [7, 2],\n",
              "       [6, 6]])"
            ]
          },
          "metadata": {},
          "execution_count": 97
        }
      ]
    },
    {
      "cell_type": "code",
      "metadata": {
        "colab": {
          "base_uri": "https://localhost:8080/"
        },
        "id": "XIM6D1IaXSQS",
        "outputId": "555bf196-7c5f-4f5e-e97b-73ba1c8f9a71"
      },
      "source": [
        "# Vertical Stacking vectors\n",
        "np.vstack([x,x])"
      ],
      "execution_count": null,
      "outputs": [
        {
          "output_type": "execute_result",
          "data": {
            "text/plain": [
              "array([[5, 8, 4, 9],\n",
              "       [8, 0, 9, 7],\n",
              "       [8, 5, 4, 1],\n",
              "       [1, 9, 6, 2],\n",
              "       [7, 2, 6, 6],\n",
              "       [5, 8, 4, 9],\n",
              "       [8, 0, 9, 7],\n",
              "       [8, 5, 4, 1],\n",
              "       [1, 9, 6, 2],\n",
              "       [7, 2, 6, 6]])"
            ]
          },
          "metadata": {},
          "execution_count": 98
        }
      ]
    },
    {
      "cell_type": "code",
      "metadata": {
        "colab": {
          "base_uri": "https://localhost:8080/"
        },
        "id": "2-yDvHGLXebR",
        "outputId": "5daa6584-a40f-4442-8254-b866ae1c3beb"
      },
      "source": [
        "# Horizontal Stacking Vectors\n",
        "np.hstack([x,x])"
      ],
      "execution_count": null,
      "outputs": [
        {
          "output_type": "execute_result",
          "data": {
            "text/plain": [
              "array([[5, 8, 4, 9, 5, 8, 4, 9],\n",
              "       [8, 0, 9, 7, 8, 0, 9, 7],\n",
              "       [8, 5, 4, 1, 8, 5, 4, 1],\n",
              "       [1, 9, 6, 2, 1, 9, 6, 2],\n",
              "       [7, 2, 6, 6, 7, 2, 6, 6]])"
            ]
          },
          "metadata": {},
          "execution_count": 99
        }
      ]
    },
    {
      "cell_type": "markdown",
      "metadata": {
        "id": "GHVJlxEdX-Be"
      },
      "source": [
        "##Miscellaneous"
      ]
    },
    {
      "cell_type": "code",
      "metadata": {
        "id": "mEFS5SIFXmhP"
      },
      "source": [
        "# Load Data from File\n",
        "np.genfromtxt('data.txt',delimiter=',')"
      ],
      "execution_count": null,
      "outputs": []
    },
    {
      "cell_type": "code",
      "metadata": {
        "colab": {
          "base_uri": "https://localhost:8080/"
        },
        "id": "Rag_3bDeX3ed",
        "outputId": "b1bba8a9-a5f3-4c78-a674-1704d4ca3dcf"
      },
      "source": [
        "# Boolean Masking & Advanced Indexing\n",
        "x > 2"
      ],
      "execution_count": null,
      "outputs": [
        {
          "output_type": "execute_result",
          "data": {
            "text/plain": [
              "array([[ True,  True,  True,  True],\n",
              "       [ True, False,  True,  True],\n",
              "       [ True,  True,  True, False],\n",
              "       [False,  True,  True, False],\n",
              "       [ True, False,  True,  True]])"
            ]
          },
          "metadata": {},
          "execution_count": 102
        }
      ]
    },
    {
      "cell_type": "code",
      "metadata": {
        "colab": {
          "base_uri": "https://localhost:8080/"
        },
        "id": "3nYbl4nVYtSV",
        "outputId": "abc6e059-44bc-4b2e-e18c-4a033a3390c3"
      },
      "source": [
        "x[x>2]"
      ],
      "execution_count": null,
      "outputs": [
        {
          "output_type": "execute_result",
          "data": {
            "text/plain": [
              "array([5, 8, 4, 9, 8, 9, 7, 8, 5, 4, 9, 6, 7, 6, 6])"
            ]
          },
          "metadata": {},
          "execution_count": 103
        }
      ]
    },
    {
      "cell_type": "code",
      "metadata": {
        "colab": {
          "base_uri": "https://localhost:8080/"
        },
        "id": "8Kmz2p9zYvYk",
        "outputId": "d65d0cc3-e5c3-4cd9-9bcc-ba4a79849c7c"
      },
      "source": [
        "x[[[0,1],[2,3]]]"
      ],
      "execution_count": null,
      "outputs": [
        {
          "output_type": "stream",
          "name": "stderr",
          "text": [
            "/usr/local/lib/python3.7/dist-packages/ipykernel_launcher.py:1: FutureWarning: Using a non-tuple sequence for multidimensional indexing is deprecated; use `arr[tuple(seq)]` instead of `arr[seq]`. In the future this will be interpreted as an array index, `arr[np.array(seq)]`, which will result either in an error or a different result.\n",
            "  \"\"\"Entry point for launching an IPython kernel.\n"
          ]
        },
        {
          "output_type": "execute_result",
          "data": {
            "text/plain": [
              "array([4, 7])"
            ]
          },
          "metadata": {},
          "execution_count": 107
        }
      ]
    },
    {
      "cell_type": "code",
      "metadata": {
        "colab": {
          "base_uri": "https://localhost:8080/"
        },
        "id": "vIPl4f3SY713",
        "outputId": "a09f21d7-e276-498c-ee57-0f0fec2f8050"
      },
      "source": [
        "np.all(x > 2,axis=1)"
      ],
      "execution_count": null,
      "outputs": [
        {
          "output_type": "execute_result",
          "data": {
            "text/plain": [
              "array([ True, False, False, False, False])"
            ]
          },
          "metadata": {},
          "execution_count": 110
        }
      ]
    },
    {
      "cell_type": "code",
      "metadata": {
        "id": "V_jKvuxLZK6j"
      },
      "source": [
        "# Boolean Operator\n",
        "# ~ & |"
      ],
      "execution_count": null,
      "outputs": []
    },
    {
      "cell_type": "markdown",
      "metadata": {
        "id": "aVkQkzo8xAua"
      },
      "source": [
        "# Numpy Exercises"
      ]
    },
    {
      "cell_type": "code",
      "metadata": {
        "id": "tQHJaSOzlXSr"
      },
      "source": [
        "import numpy as np"
      ],
      "execution_count": 87,
      "outputs": []
    },
    {
      "cell_type": "code",
      "metadata": {
        "colab": {
          "base_uri": "https://localhost:8080/"
        },
        "id": "kF3kjaipasYe",
        "outputId": "951ae625-19ff-46e4-fcc1-dab8f1e35ea0"
      },
      "source": [
        "# Create a null vector of size 10\n",
        "np.zeros(10)"
      ],
      "execution_count": 40,
      "outputs": [
        {
          "output_type": "execute_result",
          "data": {
            "text/plain": [
              "array([0., 0., 0., 0., 0., 0., 0., 0., 0., 0.])"
            ]
          },
          "metadata": {},
          "execution_count": 40
        }
      ]
    },
    {
      "cell_type": "code",
      "metadata": {
        "colab": {
          "base_uri": "https://localhost:8080/"
        },
        "id": "ZG2vcqd0lVLa",
        "outputId": "821e586e-d4b2-466d-a19f-27e7e13ab5df"
      },
      "source": [
        "# Find Memory size of any array\n",
        "np.zeros(10).nbytes , np.zeros(10).size * np.zeros(10).itemsize"
      ],
      "execution_count": 41,
      "outputs": [
        {
          "output_type": "execute_result",
          "data": {
            "text/plain": [
              "(80, 80)"
            ]
          },
          "metadata": {},
          "execution_count": 41
        }
      ]
    },
    {
      "cell_type": "code",
      "metadata": {
        "colab": {
          "base_uri": "https://localhost:8080/"
        },
        "id": "3zOat9Yllm05",
        "outputId": "f879d55a-8239-4cad-f3c7-76fba9756d3f"
      },
      "source": [
        "# Create a null vector of size 10 but the fifth value which is 1\n",
        "z = np.zeros(10)\n",
        "z[4] = 1\n",
        "z"
      ],
      "execution_count": 42,
      "outputs": [
        {
          "output_type": "execute_result",
          "data": {
            "text/plain": [
              "array([0., 0., 0., 0., 1., 0., 0., 0., 0., 0.])"
            ]
          },
          "metadata": {},
          "execution_count": 42
        }
      ]
    },
    {
      "cell_type": "code",
      "metadata": {
        "colab": {
          "base_uri": "https://localhost:8080/"
        },
        "id": "BWeRTxI4l0k0",
        "outputId": "c34adc1b-183e-4ab9-c7f1-547980844fbc"
      },
      "source": [
        "# Create a vector with values ranging from 10 to 49\n",
        "np.arange(10,50)"
      ],
      "execution_count": 43,
      "outputs": [
        {
          "output_type": "execute_result",
          "data": {
            "text/plain": [
              "array([10, 11, 12, 13, 14, 15, 16, 17, 18, 19, 20, 21, 22, 23, 24, 25, 26,\n",
              "       27, 28, 29, 30, 31, 32, 33, 34, 35, 36, 37, 38, 39, 40, 41, 42, 43,\n",
              "       44, 45, 46, 47, 48, 49])"
            ]
          },
          "metadata": {},
          "execution_count": 43
        }
      ]
    },
    {
      "cell_type": "code",
      "metadata": {
        "colab": {
          "base_uri": "https://localhost:8080/"
        },
        "id": "Av6yktPJl8sI",
        "outputId": "07d2e4b3-2845-41f8-8c45-48d90046746b"
      },
      "source": [
        "# Reverse a vector\n",
        "np.arange(15)[::-1]"
      ],
      "execution_count": 44,
      "outputs": [
        {
          "output_type": "execute_result",
          "data": {
            "text/plain": [
              "array([14, 13, 12, 11, 10,  9,  8,  7,  6,  5,  4,  3,  2,  1,  0])"
            ]
          },
          "metadata": {},
          "execution_count": 44
        }
      ]
    },
    {
      "cell_type": "code",
      "metadata": {
        "colab": {
          "base_uri": "https://localhost:8080/"
        },
        "id": "MjARB-1xmFK4",
        "outputId": "46b1afee-5116-4662-ce6f-0fa2ea25a003"
      },
      "source": [
        "# Create a 3x3 matrix with values ranging from 0 to 8\n",
        "np.arange(9).reshape(3,3)"
      ],
      "execution_count": 45,
      "outputs": [
        {
          "output_type": "execute_result",
          "data": {
            "text/plain": [
              "array([[0, 1, 2],\n",
              "       [3, 4, 5],\n",
              "       [6, 7, 8]])"
            ]
          },
          "metadata": {},
          "execution_count": 45
        }
      ]
    },
    {
      "cell_type": "code",
      "metadata": {
        "colab": {
          "base_uri": "https://localhost:8080/"
        },
        "id": "JZid-4TumK10",
        "outputId": "2d702709-3222-4394-d585-9df3c6fc10f8"
      },
      "source": [
        "# indices of non-zero elements from [1,2,0,0,4,0] \n",
        "y = [1,2,0,0,4,0] \n",
        "z = np.array([1,2,0,0,4,0])\n",
        "z[z != 0] , np.nonzero(y)"
      ],
      "execution_count": 46,
      "outputs": [
        {
          "output_type": "execute_result",
          "data": {
            "text/plain": [
              "(array([1, 2, 4]), (array([0, 1, 4]),))"
            ]
          },
          "metadata": {},
          "execution_count": 46
        }
      ]
    },
    {
      "cell_type": "code",
      "metadata": {
        "colab": {
          "base_uri": "https://localhost:8080/"
        },
        "id": "uAsJrLqJmbRR",
        "outputId": "28df4d0e-5a50-4881-8c7c-21f508313723"
      },
      "source": [
        "# Create a 3x3 identity matrix\n",
        "np.identity(3) , np.eye(3)"
      ],
      "execution_count": 47,
      "outputs": [
        {
          "output_type": "execute_result",
          "data": {
            "text/plain": [
              "(array([[1., 0., 0.],\n",
              "        [0., 1., 0.],\n",
              "        [0., 0., 1.]]), array([[1., 0., 0.],\n",
              "        [0., 1., 0.],\n",
              "        [0., 0., 1.]]))"
            ]
          },
          "metadata": {},
          "execution_count": 47
        }
      ]
    },
    {
      "cell_type": "code",
      "metadata": {
        "colab": {
          "base_uri": "https://localhost:8080/"
        },
        "id": "qT0T9MtrmstN",
        "outputId": "e0e5a77b-69f7-4332-9240-cb5574405061"
      },
      "source": [
        "# Create a 3x3x3 array with random values \n",
        "np.random.random((3,3,3))"
      ],
      "execution_count": 48,
      "outputs": [
        {
          "output_type": "execute_result",
          "data": {
            "text/plain": [
              "array([[[0.16225445, 0.05309884, 0.76946201],\n",
              "        [0.83153041, 0.23472568, 0.0615959 ],\n",
              "        [0.4960899 , 0.50255639, 0.57997065]],\n",
              "\n",
              "       [[0.45080982, 0.04480858, 0.81195816],\n",
              "        [0.53739827, 0.05495708, 0.30607726],\n",
              "        [0.58502189, 0.29242471, 0.36289069]],\n",
              "\n",
              "       [[0.4435622 , 0.41539017, 0.49193797],\n",
              "        [0.66840294, 0.68980298, 0.77221914],\n",
              "        [0.96176309, 0.38790355, 0.53435806]]])"
            ]
          },
          "metadata": {},
          "execution_count": 48
        }
      ]
    },
    {
      "cell_type": "code",
      "metadata": {
        "colab": {
          "base_uri": "https://localhost:8080/"
        },
        "id": "hrl49oVcm4AS",
        "outputId": "e6eac134-9ee5-4a71-e544-266084d13bad"
      },
      "source": [
        "# Create a 10x10 array with random values and find the minimum and maximum values\n",
        "z = np.random.random((10,10))\n",
        "z,np.max(z),np.min(z),z.max(),z.min()"
      ],
      "execution_count": 49,
      "outputs": [
        {
          "output_type": "execute_result",
          "data": {
            "text/plain": [
              "(array([[0.62894133, 0.02973198, 0.4168865 , 0.79743002, 0.47333249,\n",
              "         0.7932585 , 0.46118275, 0.2948718 , 0.47101011, 0.52444473],\n",
              "        [0.20087271, 0.4766924 , 0.39544569, 0.79326007, 0.66575957,\n",
              "         0.31579935, 0.06591165, 0.73163548, 0.68286653, 0.91039718],\n",
              "        [0.88439611, 0.1091813 , 0.03995216, 0.6689883 , 0.48984257,\n",
              "         0.48613365, 0.32172346, 0.91115326, 0.79726628, 0.79989913],\n",
              "        [0.39914133, 0.28325116, 0.92582649, 0.48271577, 0.26669702,\n",
              "         0.84390035, 0.50017952, 0.94664546, 0.49457479, 0.42655873],\n",
              "        [0.53608795, 0.39040653, 0.81254248, 0.91016306, 0.02635526,\n",
              "         0.52775261, 0.11807913, 0.94248007, 0.930575  , 0.87395354],\n",
              "        [0.48566186, 0.28738565, 0.29047393, 0.31423014, 0.57858169,\n",
              "         0.1674976 , 0.0967927 , 0.20006479, 0.44241997, 0.32941352],\n",
              "        [0.66584755, 0.78172727, 0.99987005, 0.68423265, 0.09302741,\n",
              "         0.54376207, 0.02699852, 0.87742307, 0.69824162, 0.51375081],\n",
              "        [0.98821745, 0.53894601, 0.74766648, 0.07287941, 0.12369666,\n",
              "         0.65773338, 0.09238332, 0.70318298, 0.24297563, 0.25230953],\n",
              "        [0.94851241, 0.09123093, 0.26743274, 0.02242482, 0.8382514 ,\n",
              "         0.40445334, 0.39897602, 0.75457327, 0.18197968, 0.55443495],\n",
              "        [0.14577142, 0.2364304 , 0.15469388, 0.77216522, 0.20421224,\n",
              "         0.33325014, 0.1026472 , 0.49928952, 0.63827027, 0.59596243]]),\n",
              " 0.9998700495004225,\n",
              " 0.02242481952130626,\n",
              " 0.9998700495004225,\n",
              " 0.02242481952130626)"
            ]
          },
          "metadata": {},
          "execution_count": 49
        }
      ]
    },
    {
      "cell_type": "code",
      "metadata": {
        "colab": {
          "base_uri": "https://localhost:8080/"
        },
        "id": "zL5eh9RLnUZz",
        "outputId": "2266c756-843f-4e4d-8978-5e9fef0ebb5e"
      },
      "source": [
        "# Create a random vector of size 30 and find the mean value\n",
        "z = np.random.random(30)\n",
        "np.mean(z),z.mean()"
      ],
      "execution_count": 50,
      "outputs": [
        {
          "output_type": "execute_result",
          "data": {
            "text/plain": [
              "(0.5632975175996239, 0.5632975175996239)"
            ]
          },
          "metadata": {},
          "execution_count": 50
        }
      ]
    },
    {
      "cell_type": "code",
      "metadata": {
        "colab": {
          "base_uri": "https://localhost:8080/"
        },
        "id": "9Y8XhA9Zniwg",
        "outputId": "c64f0b8f-ed59-4a03-ad0e-4673a38669d0"
      },
      "source": [
        "# Create a 2d array with 1 on the border and 0 inside\n",
        "z = np.zeros((10,10))\n",
        "z[:,0] = z[0,:] = z[-1,:] = z[:,-1] = 1\n",
        "z\n",
        "\n",
        "# or\n",
        "\n",
        "z = np.zeros((10,10))\n",
        "z[:,[0,-1]] = z[[0,-1],:] = 1\n",
        "z\n",
        "\n",
        "# or\n",
        "\n",
        "z = np.ones((10,10))\n",
        "z[1:-1,1:-1] = 0\n",
        "z"
      ],
      "execution_count": 51,
      "outputs": [
        {
          "output_type": "execute_result",
          "data": {
            "text/plain": [
              "array([[1., 1., 1., 1., 1., 1., 1., 1., 1., 1.],\n",
              "       [1., 0., 0., 0., 0., 0., 0., 0., 0., 1.],\n",
              "       [1., 0., 0., 0., 0., 0., 0., 0., 0., 1.],\n",
              "       [1., 0., 0., 0., 0., 0., 0., 0., 0., 1.],\n",
              "       [1., 0., 0., 0., 0., 0., 0., 0., 0., 1.],\n",
              "       [1., 0., 0., 0., 0., 0., 0., 0., 0., 1.],\n",
              "       [1., 0., 0., 0., 0., 0., 0., 0., 0., 1.],\n",
              "       [1., 0., 0., 0., 0., 0., 0., 0., 0., 1.],\n",
              "       [1., 0., 0., 0., 0., 0., 0., 0., 0., 1.],\n",
              "       [1., 1., 1., 1., 1., 1., 1., 1., 1., 1.]])"
            ]
          },
          "metadata": {},
          "execution_count": 51
        }
      ]
    },
    {
      "cell_type": "code",
      "metadata": {
        "colab": {
          "base_uri": "https://localhost:8080/"
        },
        "id": "O9RVMjcDpDgs",
        "outputId": "2822a8dd-0d3f-4127-f2b6-1fb481997b5d"
      },
      "source": [
        "# Create a 5x5 matrix with values 1,2,3,4 just below the diagonal\n",
        "np.diag(1+np.arange(4),k=-1)"
      ],
      "execution_count": 52,
      "outputs": [
        {
          "output_type": "execute_result",
          "data": {
            "text/plain": [
              "array([[0, 0, 0, 0, 0],\n",
              "       [1, 0, 0, 0, 0],\n",
              "       [0, 2, 0, 0, 0],\n",
              "       [0, 0, 3, 0, 0],\n",
              "       [0, 0, 0, 4, 0]])"
            ]
          },
          "metadata": {},
          "execution_count": 52
        }
      ]
    },
    {
      "cell_type": "code",
      "metadata": {
        "colab": {
          "base_uri": "https://localhost:8080/"
        },
        "id": "9vw8L4nVpnZB",
        "outputId": "4d6fbfe3-b71f-478a-8909-ed54cbdf1f06"
      },
      "source": [
        "# Create a 8x8 matrix and fill it with a checkerboard pattern\n",
        "z = np.zeros((8,8))\n",
        "z[::2,1::2] = 1\n",
        "z[1::2,::2] = 1\n",
        "z"
      ],
      "execution_count": 53,
      "outputs": [
        {
          "output_type": "execute_result",
          "data": {
            "text/plain": [
              "array([[0., 1., 0., 1., 0., 1., 0., 1.],\n",
              "       [1., 0., 1., 0., 1., 0., 1., 0.],\n",
              "       [0., 1., 0., 1., 0., 1., 0., 1.],\n",
              "       [1., 0., 1., 0., 1., 0., 1., 0.],\n",
              "       [0., 1., 0., 1., 0., 1., 0., 1.],\n",
              "       [1., 0., 1., 0., 1., 0., 1., 0.],\n",
              "       [0., 1., 0., 1., 0., 1., 0., 1.],\n",
              "       [1., 0., 1., 0., 1., 0., 1., 0.]])"
            ]
          },
          "metadata": {},
          "execution_count": 53
        }
      ]
    },
    {
      "cell_type": "code",
      "metadata": {
        "colab": {
          "base_uri": "https://localhost:8080/"
        },
        "id": "I1bRyV-6pvYF",
        "outputId": "48feb9fd-99a2-43ac-d841-2ed188fb8206"
      },
      "source": [
        "# Consider a (6,7,8) shape array, what is the index (x,y,z) of the 100th element?\n",
        "np.unravel_index(99,(6,7,8))"
      ],
      "execution_count": 54,
      "outputs": [
        {
          "output_type": "execute_result",
          "data": {
            "text/plain": [
              "(1, 5, 3)"
            ]
          },
          "metadata": {},
          "execution_count": 54
        }
      ]
    },
    {
      "cell_type": "code",
      "metadata": {
        "colab": {
          "base_uri": "https://localhost:8080/"
        },
        "id": "mKvAbrIsp59o",
        "outputId": "9c743880-6673-49de-bbab-9bcd25c308b1"
      },
      "source": [
        "# Create a checkerboard 8x8 matrix using the tile function\n",
        "np.tile(np.array([[0,1],[1,0]]),(4,4))"
      ],
      "execution_count": 55,
      "outputs": [
        {
          "output_type": "execute_result",
          "data": {
            "text/plain": [
              "array([[0, 1, 0, 1, 0, 1, 0, 1],\n",
              "       [1, 0, 1, 0, 1, 0, 1, 0],\n",
              "       [0, 1, 0, 1, 0, 1, 0, 1],\n",
              "       [1, 0, 1, 0, 1, 0, 1, 0],\n",
              "       [0, 1, 0, 1, 0, 1, 0, 1],\n",
              "       [1, 0, 1, 0, 1, 0, 1, 0],\n",
              "       [0, 1, 0, 1, 0, 1, 0, 1],\n",
              "       [1, 0, 1, 0, 1, 0, 1, 0]])"
            ]
          },
          "metadata": {},
          "execution_count": 55
        }
      ]
    },
    {
      "cell_type": "code",
      "metadata": {
        "colab": {
          "base_uri": "https://localhost:8080/"
        },
        "id": "GGAuioJ5qSaz",
        "outputId": "5e217930-03ee-48bf-a516-b4af95be9a36"
      },
      "source": [
        "# Normalize a 5x5 random matrix\n",
        "z = np.random.random((5,5))\n",
        "(z - z.mean())/z.std()"
      ],
      "execution_count": 56,
      "outputs": [
        {
          "output_type": "execute_result",
          "data": {
            "text/plain": [
              "array([[ 0.96685546, -0.93686035, -0.22819833, -1.27940728, -0.84631705],\n",
              "       [-1.39826849, -1.42436181,  1.34165056, -0.8128585 ,  1.35237363],\n",
              "       [-0.08101709,  0.8809939 ,  1.09398898, -0.6560536 , -0.16000251],\n",
              "       [ 1.04464959, -0.81032023, -0.50484019, -0.94076791,  1.80243596],\n",
              "       [ 0.13603704, -0.20200757,  1.77401846,  0.5457235 , -0.65744619]])"
            ]
          },
          "metadata": {},
          "execution_count": 56
        }
      ]
    },
    {
      "cell_type": "code",
      "metadata": {
        "colab": {
          "base_uri": "https://localhost:8080/"
        },
        "id": "ruNfNMMiqekH",
        "outputId": "117b7461-1956-48df-b25e-20a3eab35143"
      },
      "source": [
        "# Create a custom dtype that describes a color as four unsigned bytes\n",
        "color = np.dtype([('r',np.ubyte),('g',np.ubyte),('b',np.ubyte),('a',np.ubyte)])\n",
        "color"
      ],
      "execution_count": 57,
      "outputs": [
        {
          "output_type": "execute_result",
          "data": {
            "text/plain": [
              "dtype([('r', 'u1'), ('g', 'u1'), ('b', 'u1'), ('a', 'u1')])"
            ]
          },
          "metadata": {},
          "execution_count": 57
        }
      ]
    },
    {
      "cell_type": "code",
      "metadata": {
        "colab": {
          "base_uri": "https://localhost:8080/"
        },
        "id": "u5Jjop3eqnR5",
        "outputId": "e0654765-e381-421e-e0dc-62265c38ad63"
      },
      "source": [
        "# Multiply a 5x3 matrix by a 3x2 matrix (real matrix product)\n",
        "z = np.dot(np.ones((5,3)),np.ones((3,2)))\n",
        "y = np.ones((5,3)) @ np.ones((3,2))\n",
        "y,z"
      ],
      "execution_count": 58,
      "outputs": [
        {
          "output_type": "execute_result",
          "data": {
            "text/plain": [
              "(array([[3., 3.],\n",
              "        [3., 3.],\n",
              "        [3., 3.],\n",
              "        [3., 3.],\n",
              "        [3., 3.]]), array([[3., 3.],\n",
              "        [3., 3.],\n",
              "        [3., 3.],\n",
              "        [3., 3.],\n",
              "        [3., 3.]]))"
            ]
          },
          "metadata": {},
          "execution_count": 58
        }
      ]
    },
    {
      "cell_type": "code",
      "metadata": {
        "colab": {
          "base_uri": "https://localhost:8080/"
        },
        "id": "qcFStxjYqnPO",
        "outputId": "71c7d2b5-46f0-4a3c-ca69-4c61497edf85"
      },
      "source": [
        "# Given a 1D array, negate all elements which are between 3 and 8, in place\n",
        "z = np.arange(11)\n",
        "z[(3 < z) & (z < 8)] *= -1\n",
        "z"
      ],
      "execution_count": 59,
      "outputs": [
        {
          "output_type": "execute_result",
          "data": {
            "text/plain": [
              "array([ 0,  1,  2,  3, -4, -5, -6, -7,  8,  9, 10])"
            ]
          },
          "metadata": {},
          "execution_count": 59
        }
      ]
    },
    {
      "cell_type": "code",
      "metadata": {
        "colab": {
          "base_uri": "https://localhost:8080/"
        },
        "id": "e9LDolUGqnMv",
        "outputId": "dddb56b8-d6f1-4d31-ffb4-f9a616c50f60"
      },
      "source": [
        "Z = np.random.uniform(-10,+10,10)\n",
        "Z,np.where(Z > 0 , np.ceil(Z),np.floor(Z))"
      ],
      "execution_count": 60,
      "outputs": [
        {
          "output_type": "execute_result",
          "data": {
            "text/plain": [
              "(array([ 7.73681365,  5.01151683,  3.80859064, -2.52554086,  8.02889754,\n",
              "         7.21421748,  9.61109382, -4.10349262, -4.96708306,  9.16134676]),\n",
              " array([ 8.,  6.,  4., -3.,  9.,  8., 10., -5., -5., 10.]))"
            ]
          },
          "metadata": {},
          "execution_count": 60
        }
      ]
    },
    {
      "cell_type": "code",
      "metadata": {
        "colab": {
          "base_uri": "https://localhost:8080/"
        },
        "id": "Q8t3W-ltqnKf",
        "outputId": "e761f8c4-aba9-4b9b-fff1-e5c7f2c2f4d2"
      },
      "source": [
        "# How to find common values between two arrays?\n",
        "z1 = np.random.randint(0,10,10)\n",
        "z2 = np.random.randint(0,10,10)\n",
        "z1,z2,np.intersect1d(z1,z2)"
      ],
      "execution_count": 61,
      "outputs": [
        {
          "output_type": "execute_result",
          "data": {
            "text/plain": [
              "(array([1, 1, 3, 3, 4, 2, 6, 2, 2, 2]),\n",
              " array([6, 7, 1, 9, 3, 3, 9, 4, 4, 1]),\n",
              " array([1, 3, 4, 6]))"
            ]
          },
          "metadata": {},
          "execution_count": 61
        }
      ]
    },
    {
      "cell_type": "code",
      "metadata": {
        "colab": {
          "base_uri": "https://localhost:8080/"
        },
        "id": "NrY6RCOnqnHf",
        "outputId": "3905ae6b-d608-4276-833d-ef50e0ae322f"
      },
      "source": [
        "# How to find common values between two 2d arrays?\n",
        "z1 = np.random.randint(0,10,16).reshape(4,4)\n",
        "z2 = np.random.randint(0,10,16).reshape(4,4)\n",
        "z1,z2,np.intersect1d(z1,z2)"
      ],
      "execution_count": 62,
      "outputs": [
        {
          "output_type": "execute_result",
          "data": {
            "text/plain": [
              "(array([[7, 9, 1, 4],\n",
              "        [2, 6, 1, 2],\n",
              "        [5, 8, 4, 0],\n",
              "        [3, 5, 0, 1]]), array([[7, 8, 4, 7],\n",
              "        [8, 3, 9, 5],\n",
              "        [8, 8, 5, 1],\n",
              "        [5, 8, 2, 2]]), array([1, 2, 3, 4, 5, 7, 8, 9]))"
            ]
          },
          "metadata": {},
          "execution_count": 62
        }
      ]
    },
    {
      "cell_type": "code",
      "metadata": {
        "colab": {
          "base_uri": "https://localhost:8080/"
        },
        "id": "CcN3rHtxqnCt",
        "outputId": "f813d94b-bb29-487c-a3f2-3b0081b8bd16"
      },
      "source": [
        "# How to get the dates of yesterday, today and tomorrow?\n",
        "yest = np.datetime64('today') - np.timedelta64(1)\n",
        "today = np.datetime64('today')\n",
        "tom = np.datetime64('today') + np.timedelta64(1)\n",
        "yest,today,tom"
      ],
      "execution_count": 63,
      "outputs": [
        {
          "output_type": "execute_result",
          "data": {
            "text/plain": [
              "(numpy.datetime64('2021-09-28'),\n",
              " numpy.datetime64('2021-09-29'),\n",
              " numpy.datetime64('2021-09-30'))"
            ]
          },
          "metadata": {},
          "execution_count": 63
        }
      ]
    },
    {
      "cell_type": "code",
      "metadata": {
        "colab": {
          "base_uri": "https://localhost:8080/"
        },
        "id": "0gLQU4t-qm_r",
        "outputId": "f4fbf6d1-5e6a-418c-ef4d-76e6c6080e96"
      },
      "source": [
        "# How to get all the dates corresponding to the month of July 2016\n",
        "np.arange('2016-07','2016-08',dtype='datetime64[D]')"
      ],
      "execution_count": 64,
      "outputs": [
        {
          "output_type": "execute_result",
          "data": {
            "text/plain": [
              "array(['2016-07-01', '2016-07-02', '2016-07-03', '2016-07-04',\n",
              "       '2016-07-05', '2016-07-06', '2016-07-07', '2016-07-08',\n",
              "       '2016-07-09', '2016-07-10', '2016-07-11', '2016-07-12',\n",
              "       '2016-07-13', '2016-07-14', '2016-07-15', '2016-07-16',\n",
              "       '2016-07-17', '2016-07-18', '2016-07-19', '2016-07-20',\n",
              "       '2016-07-21', '2016-07-22', '2016-07-23', '2016-07-24',\n",
              "       '2016-07-25', '2016-07-26', '2016-07-27', '2016-07-28',\n",
              "       '2016-07-29', '2016-07-30', '2016-07-31'], dtype='datetime64[D]')"
            ]
          },
          "metadata": {},
          "execution_count": 64
        }
      ]
    },
    {
      "cell_type": "code",
      "metadata": {
        "colab": {
          "base_uri": "https://localhost:8080/"
        },
        "id": "IOWAGuFFqm9u",
        "outputId": "be5b7e3e-7413-4e05-bb0b-75a647edae41"
      },
      "source": [
        "# How to compute ((A+B)*(-A/2)) in place (without copy)?\n",
        "a = np.ones(3)\n",
        "b = np.ones(3)\n",
        "np.add(a,b,out=b)\n",
        "np.divide(a,2,out=a)\n",
        "np.negative(a,out=a)\n",
        "np.multiply(a,b,out=a)\n",
        "a"
      ],
      "execution_count": 65,
      "outputs": [
        {
          "output_type": "execute_result",
          "data": {
            "text/plain": [
              "array([-1., -1., -1.])"
            ]
          },
          "metadata": {},
          "execution_count": 65
        }
      ]
    },
    {
      "cell_type": "code",
      "metadata": {
        "colab": {
          "base_uri": "https://localhost:8080/"
        },
        "id": "JKs9qYt8qm30",
        "outputId": "e48b689c-9a47-47a7-b391-3262c5f0cc09"
      },
      "source": [
        "# Extract the integer part of a random array of positive numbers using 4 different methods\n",
        "Z = np.random.uniform(0,10,10)\n",
        "\n",
        "print(Z - Z%1)\n",
        "print(Z // 1)\n",
        "print(np.floor(Z))\n",
        "print(Z.astype(int))\n",
        "print(np.trunc(Z))"
      ],
      "execution_count": 66,
      "outputs": [
        {
          "output_type": "stream",
          "name": "stdout",
          "text": [
            "[4. 1. 5. 8. 2. 8. 1. 8. 2. 1.]\n",
            "[4. 1. 5. 8. 2. 8. 1. 8. 2. 1.]\n",
            "[4. 1. 5. 8. 2. 8. 1. 8. 2. 1.]\n",
            "[4 1 5 8 2 8 1 8 2 1]\n",
            "[4. 1. 5. 8. 2. 8. 1. 8. 2. 1.]\n"
          ]
        }
      ]
    },
    {
      "cell_type": "code",
      "metadata": {
        "colab": {
          "base_uri": "https://localhost:8080/"
        },
        "id": "guauuLk5qmx7",
        "outputId": "aba247c2-7b4b-4c4e-83b0-e9e6ea4960a3"
      },
      "source": [
        "# Create a 5x5 matrix with row values ranging from 0 to 4 \n",
        "np.zeros((5,5))+np.arange(5),np.tile(np.arange(5),(5,1))"
      ],
      "execution_count": 67,
      "outputs": [
        {
          "output_type": "execute_result",
          "data": {
            "text/plain": [
              "(array([[0., 1., 2., 3., 4.],\n",
              "        [0., 1., 2., 3., 4.],\n",
              "        [0., 1., 2., 3., 4.],\n",
              "        [0., 1., 2., 3., 4.],\n",
              "        [0., 1., 2., 3., 4.]]), array([[0, 1, 2, 3, 4],\n",
              "        [0, 1, 2, 3, 4],\n",
              "        [0, 1, 2, 3, 4],\n",
              "        [0, 1, 2, 3, 4],\n",
              "        [0, 1, 2, 3, 4]]))"
            ]
          },
          "metadata": {},
          "execution_count": 67
        }
      ]
    },
    {
      "cell_type": "code",
      "metadata": {
        "colab": {
          "base_uri": "https://localhost:8080/"
        },
        "id": "H2HEAdIzqmuc",
        "outputId": "eebf00ac-b040-488e-926a-38c44d7bf430"
      },
      "source": [
        "# Create a vector of size 10 with values ranging from 0 to 1, both excluded \n",
        "np.linspace(0,1,11,endpoint=False)[1:]"
      ],
      "execution_count": 68,
      "outputs": [
        {
          "output_type": "execute_result",
          "data": {
            "text/plain": [
              "array([0.09090909, 0.18181818, 0.27272727, 0.36363636, 0.45454545,\n",
              "       0.54545455, 0.63636364, 0.72727273, 0.81818182, 0.90909091])"
            ]
          },
          "metadata": {},
          "execution_count": 68
        }
      ]
    },
    {
      "cell_type": "code",
      "metadata": {
        "colab": {
          "base_uri": "https://localhost:8080/"
        },
        "id": "UvoQc_G4xg2R",
        "outputId": "95b0fb51-3682-44b3-ffef-627b6ad06c87"
      },
      "source": [
        "# Create a random vector of size 10 and sort it\n",
        "z = np.random.random(10)\n",
        "z.sort()\n",
        "print(z)"
      ],
      "execution_count": 69,
      "outputs": [
        {
          "output_type": "stream",
          "name": "stdout",
          "text": [
            "[0.12822699 0.36841687 0.45518205 0.47612741 0.49105624 0.53543089\n",
            " 0.81221524 0.83016131 0.8427253  0.95263552]\n"
          ]
        }
      ]
    },
    {
      "cell_type": "code",
      "metadata": {
        "colab": {
          "base_uri": "https://localhost:8080/"
        },
        "id": "jmwsDIqaxxaq",
        "outputId": "29c87dab-ab84-405b-f04d-6a58b31f661b"
      },
      "source": [
        "# How to sum a small array faster than np.sum?\n",
        "z = np.arange(10)\n",
        "np.add.reduce(z)"
      ],
      "execution_count": 70,
      "outputs": [
        {
          "output_type": "execute_result",
          "data": {
            "text/plain": [
              "45"
            ]
          },
          "metadata": {},
          "execution_count": 70
        }
      ]
    },
    {
      "cell_type": "code",
      "metadata": {
        "colab": {
          "base_uri": "https://localhost:8080/"
        },
        "id": "4NYLp1H3yOhj",
        "outputId": "27b9391a-c8e8-4d5b-f9fb-9fe83cd6e89d"
      },
      "source": [
        "# Consider two random array A and B, check if they are equal\n",
        "a = np.random.randint(0,2,5)\n",
        "b = np.random.randint(0,2,5)\n",
        "a,b,np.allclose(a,b),np.array_equal(a,b),np.all(a == b)"
      ],
      "execution_count": 71,
      "outputs": [
        {
          "output_type": "execute_result",
          "data": {
            "text/plain": [
              "(array([0, 0, 1, 1, 0]), array([1, 1, 1, 0, 1]), False, False, False)"
            ]
          },
          "metadata": {},
          "execution_count": 71
        }
      ]
    },
    {
      "cell_type": "code",
      "metadata": {
        "colab": {
          "base_uri": "https://localhost:8080/",
          "height": 200
        },
        "id": "-8HtPExyyr5u",
        "outputId": "6f4ea1a1-a865-4ffa-fc49-6a8268976948"
      },
      "source": [
        "# Make an array immutable (read-only)\n",
        "z = np.zeros(5)\n",
        "z.flags.writeable = False\n",
        "z[0] = 1"
      ],
      "execution_count": 72,
      "outputs": [
        {
          "output_type": "error",
          "ename": "ValueError",
          "evalue": "ignored",
          "traceback": [
            "\u001b[0;31m---------------------------------------------------------------------------\u001b[0m",
            "\u001b[0;31mValueError\u001b[0m                                Traceback (most recent call last)",
            "\u001b[0;32m<ipython-input-72-75f32c1927cd>\u001b[0m in \u001b[0;36m<module>\u001b[0;34m()\u001b[0m\n\u001b[1;32m      2\u001b[0m \u001b[0mz\u001b[0m \u001b[0;34m=\u001b[0m \u001b[0mnp\u001b[0m\u001b[0;34m.\u001b[0m\u001b[0mzeros\u001b[0m\u001b[0;34m(\u001b[0m\u001b[0;36m5\u001b[0m\u001b[0;34m)\u001b[0m\u001b[0;34m\u001b[0m\u001b[0;34m\u001b[0m\u001b[0m\n\u001b[1;32m      3\u001b[0m \u001b[0mz\u001b[0m\u001b[0;34m.\u001b[0m\u001b[0mflags\u001b[0m\u001b[0;34m.\u001b[0m\u001b[0mwriteable\u001b[0m \u001b[0;34m=\u001b[0m \u001b[0;32mFalse\u001b[0m\u001b[0;34m\u001b[0m\u001b[0;34m\u001b[0m\u001b[0m\n\u001b[0;32m----> 4\u001b[0;31m \u001b[0mz\u001b[0m\u001b[0;34m[\u001b[0m\u001b[0;36m0\u001b[0m\u001b[0;34m]\u001b[0m \u001b[0;34m=\u001b[0m \u001b[0;36m1\u001b[0m\u001b[0;34m\u001b[0m\u001b[0;34m\u001b[0m\u001b[0m\n\u001b[0m",
            "\u001b[0;31mValueError\u001b[0m: assignment destination is read-only"
          ]
        }
      ]
    },
    {
      "cell_type": "code",
      "metadata": {
        "colab": {
          "base_uri": "https://localhost:8080/"
        },
        "id": "kRCtjX87zEZx",
        "outputId": "f4a42df7-8ee3-4039-8ba8-7a206bb96af5"
      },
      "source": [
        "# Consider a random 10x2 matrix representing cartesian coordinates, \n",
        "# convert them to polar coordinates\n",
        "z = np.random.random((10,2))\n",
        "x,y = z[:,0],z[:,1]\n",
        "r = np.sqrt(x**2+y**2)\n",
        "t = np.arctan2(y,x)\n",
        "r,t"
      ],
      "execution_count": 73,
      "outputs": [
        {
          "output_type": "execute_result",
          "data": {
            "text/plain": [
              "(array([0.76960825, 0.50899981, 1.1173832 , 0.43359126, 1.13236344,\n",
              "        0.88245503, 0.97878107, 0.34251733, 0.40456628, 0.72905878]),\n",
              " array([0.12314857, 1.09024855, 0.75650182, 1.18592252, 0.69595416,\n",
              "        0.76418231, 0.52641562, 1.44525169, 1.50613695, 1.08362719]))"
            ]
          },
          "metadata": {},
          "execution_count": 73
        }
      ]
    },
    {
      "cell_type": "code",
      "metadata": {
        "colab": {
          "base_uri": "https://localhost:8080/"
        },
        "id": "rdVA54pozVV7",
        "outputId": "07ca7b3a-78e8-4b42-b6a7-21d2d328eda0"
      },
      "source": [
        "# Create random vector of size 10 and replace the maximum value by 0\n",
        "z = np.random.random(10)\n",
        "z[z.argmax()] = 0\n",
        "z"
      ],
      "execution_count": 74,
      "outputs": [
        {
          "output_type": "execute_result",
          "data": {
            "text/plain": [
              "array([0.12597279, 0.43048154, 0.23970586, 0.79498795, 0.67597626,\n",
              "       0.37772752, 0.3705191 , 0.0061278 , 0.        , 0.22692491])"
            ]
          },
          "metadata": {},
          "execution_count": 74
        }
      ]
    },
    {
      "cell_type": "code",
      "metadata": {
        "colab": {
          "base_uri": "https://localhost:8080/"
        },
        "id": "ID2XdNzd0ABW",
        "outputId": "fd600e53-ee19-4828-d631-7d0f7bf5476b"
      },
      "source": [
        "# Create a structured array with x and y coordinates covering the [0,1]x[0,1] area \n",
        "z = np.zeros((4,5),[('x',float),('y',float)]) # Structured Array\n",
        "z['x'],z['y'] = np.meshgrid(np.linspace(0,1,5),np.linspace(0,1,4)) # Mesh Grid \n",
        "# Creates a rectangular box (abhi tak toh itana hi malum he) \n",
        "z"
      ],
      "execution_count": 77,
      "outputs": [
        {
          "output_type": "execute_result",
          "data": {
            "text/plain": [
              "array([[(0.  , 0.        ), (0.25, 0.        ), (0.5 , 0.        ),\n",
              "        (0.75, 0.        ), (1.  , 0.        )],\n",
              "       [(0.  , 0.33333333), (0.25, 0.33333333), (0.5 , 0.33333333),\n",
              "        (0.75, 0.33333333), (1.  , 0.33333333)],\n",
              "       [(0.  , 0.66666667), (0.25, 0.66666667), (0.5 , 0.66666667),\n",
              "        (0.75, 0.66666667), (1.  , 0.66666667)],\n",
              "       [(0.  , 1.        ), (0.25, 1.        ), (0.5 , 1.        ),\n",
              "        (0.75, 1.        ), (1.  , 1.        )]],\n",
              "      dtype=[('x', '<f8'), ('y', '<f8')])"
            ]
          },
          "metadata": {},
          "execution_count": 77
        }
      ]
    },
    {
      "cell_type": "code",
      "metadata": {
        "colab": {
          "base_uri": "https://localhost:8080/"
        },
        "id": "qGvXr9Ss0q5q",
        "outputId": "03384239-b18f-4e6d-bafd-37fb519fdd1e"
      },
      "source": [
        "# Given two arrays, X and Y, construct the Cauchy matrix C (Cij =1/(xi - yj))\n",
        "x = np.arange(8)\n",
        "y = x+0.5\n",
        "c = 1.0/np.subtract.outer(x,y) # Performs outer operation acc to the operations\n",
        "#  similiar to outer function (xi*yj)\n",
        "c , np.linalg.det(c)"
      ],
      "execution_count": 80,
      "outputs": [
        {
          "output_type": "execute_result",
          "data": {
            "text/plain": [
              "(array([[-2.        , -0.66666667, -0.4       , -0.28571429, -0.22222222,\n",
              "         -0.18181818, -0.15384615, -0.13333333],\n",
              "        [ 2.        , -2.        , -0.66666667, -0.4       , -0.28571429,\n",
              "         -0.22222222, -0.18181818, -0.15384615],\n",
              "        [ 0.66666667,  2.        , -2.        , -0.66666667, -0.4       ,\n",
              "         -0.28571429, -0.22222222, -0.18181818],\n",
              "        [ 0.4       ,  0.66666667,  2.        , -2.        , -0.66666667,\n",
              "         -0.4       , -0.28571429, -0.22222222],\n",
              "        [ 0.28571429,  0.4       ,  0.66666667,  2.        , -2.        ,\n",
              "         -0.66666667, -0.4       , -0.28571429],\n",
              "        [ 0.22222222,  0.28571429,  0.4       ,  0.66666667,  2.        ,\n",
              "         -2.        , -0.66666667, -0.4       ],\n",
              "        [ 0.18181818,  0.22222222,  0.28571429,  0.4       ,  0.66666667,\n",
              "          2.        , -2.        , -0.66666667],\n",
              "        [ 0.15384615,  0.18181818,  0.22222222,  0.28571429,  0.4       ,\n",
              "          0.66666667,  2.        , -2.        ]]), 3638.1636371179666)"
            ]
          },
          "metadata": {},
          "execution_count": 80
        }
      ]
    },
    {
      "cell_type": "code",
      "metadata": {
        "id": "tGxPuL_52pX2",
        "colab": {
          "base_uri": "https://localhost:8080/"
        },
        "outputId": "4c8012ec-7bc1-42ec-9c94-53998e1793fc"
      },
      "source": [
        "# Print the minimum and maximum representable value for each numpy scalar type\n",
        "for dtype in [np.int8, np.int32, np.int64]:\n",
        "   print(np.iinfo(dtype).min)\n",
        "   print(np.iinfo(dtype).max)\n",
        "for dtype in [np.float32, np.float64]:\n",
        "   print(np.finfo(dtype).min)\n",
        "   print(np.finfo(dtype).max)\n",
        "   print(np.finfo(dtype).eps)\n"
      ],
      "execution_count": 82,
      "outputs": [
        {
          "output_type": "stream",
          "name": "stdout",
          "text": [
            "-128\n",
            "127\n",
            "-2147483648\n",
            "2147483647\n",
            "-9223372036854775808\n",
            "9223372036854775807\n",
            "-3.4028235e+38\n",
            "3.4028235e+38\n",
            "1.1920929e-07\n",
            "-1.7976931348623157e+308\n",
            "1.7976931348623157e+308\n",
            "2.220446049250313e-16\n"
          ]
        }
      ]
    },
    {
      "cell_type": "code",
      "metadata": {
        "colab": {
          "base_uri": "https://localhost:8080/"
        },
        "id": "HN9Zo70hQuro",
        "outputId": "c3c5acf7-2d66-4832-d9ed-df48c86a2aa4"
      },
      "source": [
        "# How to print all the values of an array?\n",
        "np.set_printoptions(threshold=float(\"inf\")) # set the number of elements to be seen\n",
        "Z = np.zeros((20,20))\n",
        "print(Z)"
      ],
      "execution_count": 84,
      "outputs": [
        {
          "output_type": "stream",
          "name": "stdout",
          "text": [
            "[[0. 0. 0. ... 0. 0. 0.]\n",
            " [0. 0. 0. ... 0. 0. 0.]\n",
            " [0. 0. 0. ... 0. 0. 0.]\n",
            " ...\n",
            " [0. 0. 0. ... 0. 0. 0.]\n",
            " [0. 0. 0. ... 0. 0. 0.]\n",
            " [0. 0. 0. ... 0. 0. 0.]]\n"
          ]
        }
      ]
    },
    {
      "cell_type": "code",
      "metadata": {
        "colab": {
          "base_uri": "https://localhost:8080/"
        },
        "id": "xn3N4IYXSAOP",
        "outputId": "f6d850c4-e91e-410e-c153-1bd7a7f5d6e7"
      },
      "source": [
        "# find the closest value (to a given scalar) in a vector?\n",
        "z = np.arange(10)\n",
        "x = np.random.uniform(0,10)\n",
        "z,x , np.abs(z-x).argmin()"
      ],
      "execution_count": 86,
      "outputs": [
        {
          "output_type": "execute_result",
          "data": {
            "text/plain": [
              "(array([0, 1, 2, 3, 4, 5, 6, 7, 8, 9]), 6.200511671721355, 6)"
            ]
          },
          "metadata": {},
          "execution_count": 86
        }
      ]
    },
    {
      "cell_type": "code",
      "metadata": {
        "colab": {
          "base_uri": "https://localhost:8080/"
        },
        "id": "Uxgm8yrLawjW",
        "outputId": "656d1ad1-4551-4ac2-d4d6-bc263d638ab9"
      },
      "source": [
        "# Create a structured array representing a position (x,y) and a color (r,g,b)\n",
        "z = np.zeros(10,[('position',[('x',float,1),\n",
        "                              ('y',float,1)]),\n",
        "                 ('color'   ,[('r',float,1),\n",
        "                              ('g',float,1),\n",
        "                              ('b',float,1)])])\n",
        "z"
      ],
      "execution_count": 91,
      "outputs": [
        {
          "output_type": "stream",
          "name": "stderr",
          "text": [
            "/usr/local/lib/python3.7/dist-packages/ipykernel_launcher.py:6: FutureWarning: Passing (type, 1) or '1type' as a synonym of type is deprecated; in a future version of numpy, it will be understood as (type, (1,)) / '(1,)type'.\n",
            "  \n"
          ]
        },
        {
          "output_type": "execute_result",
          "data": {
            "text/plain": [
              "array([((0., 0.), (0., 0., 0.)), ((0., 0.), (0., 0., 0.)),\n",
              "       ((0., 0.), (0., 0., 0.)), ((0., 0.), (0., 0., 0.)),\n",
              "       ((0., 0.), (0., 0., 0.)), ((0., 0.), (0., 0., 0.)),\n",
              "       ((0., 0.), (0., 0., 0.)), ((0., 0.), (0., 0., 0.)),\n",
              "       ((0., 0.), (0., 0., 0.)), ((0., 0.), (0., 0., 0.))],\n",
              "      dtype=[('position', [('x', '<f8'), ('y', '<f8')]), ('color', [('r', '<f8'), ('g', '<f8'), ('b', '<f8')])])"
            ]
          },
          "metadata": {},
          "execution_count": 91
        }
      ]
    },
    {
      "cell_type": "code",
      "metadata": {
        "colab": {
          "base_uri": "https://localhost:8080/"
        },
        "id": "13cfqS-lpN8K",
        "outputId": "ef0344d8-b3bb-4e51-beef-2478fca7ca83"
      },
      "source": [
        "# Consider a random vector with shape (100,2) representing coordinates, find point by point distances\n",
        "z = np.random.random((10,2))\n",
        "x,y = np.atleast_2d(z[:,0],z[:,1]) # x = z[:,0],y = z[:,1]\n",
        "np.sqrt((x-x.T)**2 + (y-y.T)**2)"
      ],
      "execution_count": 95,
      "outputs": [
        {
          "output_type": "execute_result",
          "data": {
            "text/plain": [
              "array([[0.        , 0.46562604, 0.13978387, ..., 0.76337694, 0.83081692,\n",
              "        0.12050902],\n",
              "       [0.46562604, 0.        , 0.49886081, ..., 0.52506815, 0.57152859,\n",
              "        0.41358912],\n",
              "       [0.13978387, 0.49886081, 0.        , ..., 0.87235642, 0.93777375,\n",
              "        0.08668571],\n",
              "       ...,\n",
              "       [0.76337694, 0.52506815, 0.87235642, ..., 0.        , 0.06927335,\n",
              "        0.79332497],\n",
              "       [0.83081692, 0.57152859, 0.93777375, ..., 0.06927335, 0.        ,\n",
              "        0.85777979],\n",
              "       [0.12050902, 0.41358912, 0.08668571, ..., 0.79332497, 0.85777979,\n",
              "        0.        ]])"
            ]
          },
          "metadata": {},
          "execution_count": 95
        }
      ]
    },
    {
      "cell_type": "code",
      "metadata": {
        "id": "45ttG5WXsLGH"
      },
      "source": [
        ""
      ],
      "execution_count": null,
      "outputs": []
    }
  ]
}